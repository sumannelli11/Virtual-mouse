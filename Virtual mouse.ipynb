{
 "cells": [
  {
   "cell_type": "code",
   "execution_count": 1,
   "id": "5fb5df1a",
   "metadata": {},
   "outputs": [],
   "source": [
    "import cv2\n",
    "import time\n",
    "import mediapipe as mp\n",
    "import handTrackingModule as htm\n",
    "import autopy\n",
    "import numpy as np"
   ]
  },
  {
   "cell_type": "code",
   "execution_count": 4,
   "id": "2dac7d25",
   "metadata": {},
   "outputs": [],
   "source": [
    "\n",
    "pTime = 0\n",
    "cTime = 0\n",
    "cap=cv2.VideoCapture(0)\n",
    "cap.set(3,640)\n",
    "cap.set(4,640)\n",
    "frameR = 100\n",
    "detector = htm.handDetector(maxHands=1)\n",
    "wScr, hScr = autopy.screen.size()\n",
    "while True:\n",
    "    success, imgg = cap.read()\n",
    "    img = cv2.flip(imgg,1)\n",
    "    #img = cv2.cvtColor(img, cv2.COLOR_BGR2RGB)\n",
    "    img = detector.findHands(img)\n",
    "    lmList, bbox = detector.findPosition(img)\n",
    "    # 2. Get the tip of the index and middle fingers\n",
    "    cTime = time.time()\n",
    "    fps = 1 / (cTime - pTime)\n",
    "    if len(lmList) != 0:\n",
    "        x1, y1 = lmList[8][1:]\n",
    "        x2, y2 = lmList[12][1:]\n",
    "        #print(x1, y1, x2, y2)\n",
    "        fingers = detector.fingersUp()\n",
    "        cv2.rectangle(img,(frameR,frameR),(640-frameR,640-frameR),(255,0,255),2)\n",
    "        #print(fingers)\n",
    "        if fingers[1]==1 and fingers[2]==0:\n",
    "            x3 = np.interp(x1,(0,640-frameR),(0,wScr))\n",
    "            y3 = np.interp(y1,(0,640-frameR),(0,hScr))\n",
    "            autopy.mouse.move(wScr-x3,y3)\n",
    "            cv2.circle(img,(x1,y1),15,(255,0,0),cv2.FILLED)\n",
    "        if fingers[1]==1 and fingers[2]==1:\n",
    "            length, img,lineinfo = detector.findDistance(8,12,img)\n",
    "            if length<40:\n",
    "                cv2.circle(img,(lineinfo[4],lineinfo[5]),15,(0,255,0),cv2.FILLED)\n",
    "                autopy.mouse.click()\n",
    "            \n",
    "    \n",
    "    # 11. Frame Rate\n",
    "    \n",
    "    pTime = cTime\n",
    "    cv2.putText(img, str(int(fps)), (20, 50), cv2.FONT_HERSHEY_PLAIN, 3,\n",
    "    (255, 0, 0), 3)\n",
    "    # 12. Display\n",
    "    cv2.imshow(\"Image\", img)\n",
    "    #cv2.waitKey(1)\n",
    "    \n",
    "    if cv2.waitKey(1) & 0xFF == ord('q'):\n",
    "        break\n",
    "cap.release()\n",
    "# Destroy all the windows\n",
    "cv2.destroyAllWindows()\n",
    "    "
   ]
  },
  {
   "cell_type": "code",
   "execution_count": null,
   "id": "ad23239c",
   "metadata": {},
   "outputs": [],
   "source": []
  }
 ],
 "metadata": {
  "kernelspec": {
   "display_name": "Python 3 (ipykernel)",
   "language": "python",
   "name": "python3"
  },
  "language_info": {
   "codemirror_mode": {
    "name": "ipython",
    "version": 3
   },
   "file_extension": ".py",
   "mimetype": "text/x-python",
   "name": "python",
   "nbconvert_exporter": "python",
   "pygments_lexer": "ipython3",
   "version": "3.7.6"
  }
 },
 "nbformat": 4,
 "nbformat_minor": 5
}
